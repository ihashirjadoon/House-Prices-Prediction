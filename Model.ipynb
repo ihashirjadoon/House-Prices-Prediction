{
 "cells": [
  {
   "cell_type": "code",
   "execution_count": 9,
   "metadata": {},
   "outputs": [
    {
     "name": "stdout",
     "output_type": "stream",
     "text": [
      "MAE for validation is 21,857\n"
     ]
    }
   ],
   "source": [
    "import pandas as pd \n",
    "from sklearn.model_selection import train_test_split\n",
    "from sklearn.ensemble import RandomForestRegressor \n",
    "from sklearn.metrics import mean_absolute_error\n",
    "\n",
    "# Load training data\n",
    "train_data = pd.read_csv('dataset/train.csv')\n",
    "\n",
    "# Define the target variable\n",
    "y = train_data.SalePrice \n",
    "\n",
    "# Define the features\n",
    "features = ['LotArea', 'YearBuilt', '1stFlrSF', '2ndFlrSF', 'FullBath', 'BedroomAbvGr', 'TotRmsAbvGrd']\n",
    "X = train_data[features]\n",
    "\n",
    "# Split the data into training and validation sets\n",
    "train_X, val_X, train_y, val_y = train_test_split(X, y, test_size=0.25, random_state=1)\n",
    "\n",
    "# Initialize the model\n",
    "model = RandomForestRegressor(random_state=1)\n",
    "\n",
    "# Fit the model\n",
    "model.fit(train_X, train_y)\n",
    "\n",
    "# Make predictions\n",
    "val_predict = model.predict(val_X)\n",
    "\n",
    "# Calculate the Mean Absolute Error (MAE)\n",
    "mae = mean_absolute_error(val_predict, val_y)\n",
    "print(f\"MAE for validation is {mae:,.0f}\")\n"
   ]
  },
  {
   "cell_type": "code",
   "execution_count": null,
   "metadata": {},
   "outputs": [],
   "source": [
    "# Initialize and fit the model using the entire dataset\n",
    "model_full_data = RandomForestRegressor(random_state=1)\n",
    "model_full_data.fit(X, y)\n"
   ]
  },
  {
   "cell_type": "code",
   "execution_count": null,
   "metadata": {},
   "outputs": [],
   "source": [
    "# Load test data\n",
    "test_data = pd.read_csv('dataset/test.csv')\n",
    "\n",
    "# Select features for the test set\n",
    "test_X = test_data[features]\n",
    "\n",
    "# Make predictions on the test set\n",
    "test_predictions = model_full_data.predict(test_X)\n",
    "\n",
    "# Create a DataFrame with the test IDs and the predicted sale prices\n",
    "output = pd.DataFrame({'Id': test_data.Id, 'SalePrice': test_predictions})\n",
    "\n",
    "# Save the predictions to a CSV file\n",
    "output.to_csv('dataset/output.csv', index=False)\n",
    "\n",
    "# Print summary statistics of the predictions\n",
    "print(output.describe())\n"
   ]
  }
 ],
 "metadata": {
  "kernelspec": {
   "display_name": "Python 3",
   "language": "python",
   "name": "python3"
  },
  "language_info": {
   "codemirror_mode": {
    "name": "ipython",
    "version": 3
   },
   "file_extension": ".py",
   "mimetype": "text/x-python",
   "name": "python",
   "nbconvert_exporter": "python",
   "pygments_lexer": "ipython3",
   "version": "3.12.3"
  }
 },
 "nbformat": 4,
 "nbformat_minor": 2
}
